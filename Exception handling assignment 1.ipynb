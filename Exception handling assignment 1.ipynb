{
  "metadata": {
    "kernelspec": {
      "name": "python",
      "display_name": "Python (Pyodide)",
      "language": "python"
    },
    "language_info": {
      "codemirror_mode": {
        "name": "python",
        "version": 3
      },
      "file_extension": ".py",
      "mimetype": "text/x-python",
      "name": "python",
      "nbconvert_exporter": "python",
      "pygments_lexer": "ipython3",
      "version": "3.8"
    }
  },
  "nbformat_minor": 4,
  "nbformat": 4,
  "cells": [
    {
      "cell_type": "code",
      "source": "# Ans 1:-\n# In Python, an exception is an object that represents an error or an unexpected event during program execution",
      "metadata": {
        "trusted": true
      },
      "outputs": [],
      "execution_count": 1
    },
    {
      "cell_type": "code",
      "source": "# Difference between syntax error and exception :\n# A syntax error occurs during parsing, which is the initial phase when Python reads your code.\n# Exceptions occur during execution, after parsing is complete.",
      "metadata": {
        "trusted": true
      },
      "outputs": [],
      "execution_count": 2
    },
    {
      "cell_type": "code",
      "source": "# Ans 2:- If exception is not handled , execution will stops with an error message.",
      "metadata": {
        "trusted": true
      },
      "outputs": [],
      "execution_count": 3
    },
    {
      "cell_type": "code",
      "source": "try:\n    numerator = 10\n    denominator = 0\n\n    result = numerator/denominator\n\n    print(result)\nexcept:\n    print(\"Error: Denominator cannot be 0.\")\n",
      "metadata": {
        "trusted": true
      },
      "outputs": [
        {
          "name": "stdout",
          "text": "Error: Denominator cannot be 0.\n",
          "output_type": "stream"
        }
      ],
      "execution_count": 4
    },
    {
      "cell_type": "code",
      "source": "# Ans 3:- Try and except statements: The try block contains critical statements that could cause an error,\n# and the except block handles the exception raised by the try block.\n# Else and finally: These can be used to define actions to take at the end of the try-except process.",
      "metadata": {
        "trusted": true
      },
      "outputs": [],
      "execution_count": 5
    },
    {
      "cell_type": "code",
      "source": "try :\n    f= open(\"test3.txt\" , 'r')\n    f.write(\"i am a data scientist\")\n   \n    \nexcept Exception as e :\n    print(\"this is my except block\" , e)\n\nelse :\n    f.write(\"Earth is so beautiful\")\n    f.close()\n\nfinally :\n    print(\"finally, i cracked upsc\")",
      "metadata": {
        "trusted": true
      },
      "outputs": [
        {
          "name": "stdout",
          "text": "this is my except block [Errno 44] No such file or directory: 'test3.txt'\nfinally, i cracked upsc\n",
          "output_type": "stream"
        }
      ],
      "execution_count": 6
    },
    {
      "cell_type": "code",
      "source": "# Ans 4:- a) The try block contains critical statements that could cause an error,\n#  Else block executese if try block is successfully executed otherwise not.",
      "metadata": {
        "trusted": true
      },
      "outputs": [],
      "execution_count": 11
    },
    {
      "cell_type": "code",
      "source": "try :\n    int(\"456\")\nexcept (TypeError) as e :\n    print(e)\nelse :\n    print(\"Goldfish are one of the most popular aquarium fish\")\n    ",
      "metadata": {
        "trusted": true
      },
      "outputs": [
        {
          "name": "stdout",
          "text": "Goldfish are one of the most popular aquarium fish\n",
          "output_type": "stream"
        }
      ],
      "execution_count": 12
    },
    {
      "cell_type": "code",
      "source": "# b)  Finally: It is always be executed, no matter if the try block raises an error or not.",
      "metadata": {
        "trusted": true
      },
      "outputs": [],
      "execution_count": 13
    },
    {
      "cell_type": "code",
      "source": "try :\n    int(\"456\")\nexcept (TypeError) as e :\n    print(e)\nelse :\n    print(\"Goldfish are one of the most popular aquarium fish\")\nfinally :\n    print(\"Starfish are marine invertebrates\")\n    ",
      "metadata": {
        "trusted": true
      },
      "outputs": [
        {
          "name": "stdout",
          "text": "Goldfish are one of the most popular aquarium fish\nStarfish are marine invertebrates\n",
          "output_type": "stream"
        }
      ],
      "execution_count": 14
    },
    {
      "cell_type": "code",
      "source": "# Ans 5:-  To create a custom exception, define a new class that inherits from Exception, ",
      "metadata": {
        "trusted": true
      },
      "outputs": [],
      "execution_count": 15
    },
    {
      "cell_type": "code",
      "source": "class MyCustomError(Exception):\n    def __init__(self, msg, msgs):\n        self.msg = msg",
      "metadata": {
        "trusted": true
      },
      "outputs": [],
      "execution_count": 19
    },
    {
      "cell_type": "code",
      "source": "def divide(a, b):\n    if b == 0:\n        raise MyCustomError(\"Division by zero is not allowed\", 400)\n    return a / b",
      "metadata": {
        "trusted": true
      },
      "outputs": [],
      "execution_count": 20
    },
    {
      "cell_type": "code",
      "source": "try:\n    result = divide(10, 0)\nexcept MyCustomError as e:\n    print(f\"Caught an error: {e}\")",
      "metadata": {
        "trusted": true
      },
      "outputs": [
        {
          "name": "stdout",
          "text": "Caught an error: ('Division by zero is not allowed', 400)\n",
          "output_type": "stream"
        }
      ],
      "execution_count": 21
    }
  ]
}